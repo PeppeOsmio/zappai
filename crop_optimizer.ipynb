{
 "cells": [
  {
   "cell_type": "code",
   "execution_count": 1,
   "metadata": {},
   "outputs": [
    {
     "name": "stderr",
     "output_type": "stream",
     "text": [
      "2024-07-27 12:20:58.693714: I external/local_tsl/tsl/cuda/cudart_stub.cc:32] Could not find cuda drivers on your machine, GPU will not be used.\n",
      "2024-07-27 12:20:58.747337: I external/local_tsl/tsl/cuda/cudart_stub.cc:32] Could not find cuda drivers on your machine, GPU will not be used.\n",
      "2024-07-27 12:20:58.998042: I tensorflow/core/platform/cpu_feature_guard.cc:210] This TensorFlow binary is optimized to use available CPU instructions in performance-critical operations.\n",
      "To enable the following instructions: AVX2 FMA, in other operations, rebuild TensorFlow with the appropriate compiler flags.\n",
      "2024-07-27 12:20:59.851098: W tensorflow/compiler/tf2tensorrt/utils/py_utils.cc:38] TF-TRT Warning: Could not find TensorRT\n"
     ]
    }
   ],
   "source": [
    "from zappai.zappai.di import (\n",
    "    get_crop_optimizer_service,\n",
    "    get_session_maker,\n",
    "    get_cds_api,\n",
    "    get_location_repository,\n",
    "    get_past_climate_data_repository,\n",
    "    get_future_climate_data_repository,\n",
    "    get_climate_generative_model_repository,\n",
    "    get_crop_repository,\n",
    "    get_crop_yield_data_repository,\n",
    "    get_crop_yield_model_service,\n",
    ")\n",
    "session_maker = get_session_maker()\n",
    "cds_api = get_cds_api()\n",
    "location_repository = get_location_repository()\n",
    "past_climate_data_repository = get_past_climate_data_repository(\n",
    "    cds_api=cds_api,\n",
    "    location_repository=location_repository,\n",
    ")\n",
    "future_climate_data_repository = get_future_climate_data_repository(cds_api=cds_api)\n",
    "climate_generative_model_repository = get_climate_generative_model_repository(\n",
    "    location_repository=location_repository,\n",
    "    past_climate_data_repository=past_climate_data_repository,\n",
    "    future_climate_data_repository=future_climate_data_repository,\n",
    ")\n",
    "crop_repository = get_crop_repository()\n",
    "crop_yield_data_repository = get_crop_yield_data_repository(\n",
    "    crop_repository=crop_repository,\n",
    "    location_repository=location_repository,\n",
    "    past_climate_data_repository=past_climate_data_repository,\n",
    ")\n",
    "crop_yield_model_service = get_crop_yield_model_service(\n",
    "    past_climate_data_repository=past_climate_data_repository,\n",
    "    location_repository=location_repository,\n",
    "    crop_yield_data_repository=crop_yield_data_repository,\n",
    "    crop_repository=crop_repository,\n",
    ")\n",
    "crop_optimizer_service = get_crop_optimizer_service(\n",
    "    past_climate_data_repository=past_climate_data_repository,\n",
    "    location_repository=location_repository,\n",
    "    climate_generative_model_repository=climate_generative_model_repository,\n",
    "    crop_repository=crop_repository,\n",
    "    future_climate_data_repository=future_climate_data_repository,\n",
    ")"
   ]
  },
  {
   "cell_type": "code",
   "execution_count": 2,
   "metadata": {},
   "outputs": [
    {
     "ename": "Exception",
     "evalue": "",
     "output_type": "error",
     "traceback": [
      "\u001b[0;31m---------------------------------------------------------------------------\u001b[0m",
      "\u001b[0;31mException\u001b[0m                                 Traceback (most recent call last)",
      "Cell \u001b[0;32mIn[2], line 15\u001b[0m\n\u001b[1;32m     13\u001b[0m \u001b[38;5;66;03m# result = await crop_optimizer_service.get_best_crop_sowing_and_harvesting(crop_id=crop.id, location_id=location.id)\u001b[39;00m\n\u001b[1;32m     14\u001b[0m \u001b[38;5;28;01masync\u001b[39;00m \u001b[38;5;28;01mwith\u001b[39;00m session_maker() \u001b[38;5;28;01mas\u001b[39;00m session:\n\u001b[0;32m---> 15\u001b[0m     result \u001b[38;5;241m=\u001b[39m \u001b[38;5;28;01mawait\u001b[39;00m crop_optimizer_service\u001b[38;5;241m.\u001b[39mget_best_crop_sowing_and_harvesting(\n\u001b[1;32m     16\u001b[0m         session\u001b[38;5;241m=\u001b[39msession, crop_id\u001b[38;5;241m=\u001b[39mcrop\u001b[38;5;241m.\u001b[39mid, location_id\u001b[38;5;241m=\u001b[39mlocation\u001b[38;5;241m.\u001b[39mid\n\u001b[1;32m     17\u001b[0m     )\n\u001b[1;32m     19\u001b[0m best_combination \u001b[38;5;241m=\u001b[39m result\u001b[38;5;241m.\u001b[39mbest_combinations[\u001b[38;5;241m-\u001b[39m\u001b[38;5;241m1\u001b[39m]\n\u001b[1;32m     20\u001b[0m \u001b[38;5;28mprint\u001b[39m(\u001b[38;5;124mf\u001b[39m\u001b[38;5;124m\"\u001b[39m\u001b[38;5;124mSowing: \u001b[39m\u001b[38;5;132;01m{\u001b[39;00mbest_combination\u001b[38;5;241m.\u001b[39msowing_year\u001b[38;5;132;01m}\u001b[39;00m\u001b[38;5;124m/\u001b[39m\u001b[38;5;132;01m{\u001b[39;00mbest_combination\u001b[38;5;241m.\u001b[39msowing_month\u001b[38;5;132;01m}\u001b[39;00m\u001b[38;5;124m\"\u001b[39m)\n",
      "File \u001b[0;32m~/Progetti/tesi/tesi/zappai/services/crop_optimizer_service.py:309\u001b[0m, in \u001b[0;36mCropOptimizerService.get_best_crop_sowing_and_harvesting\u001b[0;34m(self, session, crop_id, location_id)\u001b[0m\n\u001b[1;32m    307\u001b[0m model \u001b[38;5;241m=\u001b[39m crop\u001b[38;5;241m.\u001b[39mcrop_yield_model\n\u001b[1;32m    308\u001b[0m \u001b[38;5;28;01mif\u001b[39;00m model \u001b[38;5;129;01mis\u001b[39;00m \u001b[38;5;28;01mNone\u001b[39;00m:\n\u001b[0;32m--> 309\u001b[0m     \u001b[38;5;28;01mraise\u001b[39;00m \u001b[38;5;167;01mException\u001b[39;00m()\n\u001b[1;32m    311\u001b[0m forecast \u001b[38;5;241m=\u001b[39m \u001b[38;5;28;01mawait\u001b[39;00m \u001b[38;5;28mself\u001b[39m\u001b[38;5;241m.\u001b[39mclimate_generative_model_repository\u001b[38;5;241m.\u001b[39mgenerate_climate_data_from_last_past_climate_data(\n\u001b[1;32m    312\u001b[0m     session\u001b[38;5;241m=\u001b[39msession, location_id\u001b[38;5;241m=\u001b[39mlocation\u001b[38;5;241m.\u001b[39mid, months\u001b[38;5;241m=\u001b[39m\u001b[38;5;241m24\u001b[39m\n\u001b[1;32m    313\u001b[0m )\n\u001b[1;32m    314\u001b[0m forecast_df \u001b[38;5;241m=\u001b[39m ClimateDataDTO\u001b[38;5;241m.\u001b[39mfrom_list_to_dataframe(forecast)\n",
      "\u001b[0;31mException\u001b[0m: "
     ]
    }
   ],
   "source": [
    "async with session_maker() as session:\n",
    "    location = await location_repository.get_location_by_country_and_name(\n",
    "        session=session, country=\"Italy\", name=\"Policoro\"\n",
    "    )\n",
    "\n",
    "    if location is None:\n",
    "        raise Exception()\n",
    "\n",
    "    crop = await crop_repository.get_crop_by_name(session=session, name=\"maize\")\n",
    "    if crop is None:\n",
    "        raise Exception()\n",
    "\n",
    "# result = await crop_optimizer_service.get_best_crop_sowing_and_harvesting(crop_id=crop.id, location_id=location.id)\n",
    "async with session_maker() as session:\n",
    "    result = await crop_optimizer_service.get_best_crop_sowing_and_harvesting(\n",
    "        session=session, crop_id=crop.id, location_id=location.id\n",
    "    )\n",
    "\n",
    "best_combination = result.best_combinations[-1]\n",
    "print(f\"Sowing: {best_combination.sowing_year}/{best_combination.sowing_month}\")\n",
    "print(f\"Harvesting: {best_combination.harvest_year}/{best_combination.harvest_month}\")\n",
    "print(f\"Duration: {best_combination.duration}\")\n",
    "print(f\"Estimated yield per hectar: {best_combination.estimated_yield_per_hectar}\")"
   ]
  }
 ],
 "metadata": {
  "kernelspec": {
   "display_name": ".venv",
   "language": "python",
   "name": "python3"
  },
  "language_info": {
   "codemirror_mode": {
    "name": "ipython",
    "version": 3
   },
   "file_extension": ".py",
   "mimetype": "text/x-python",
   "name": "python",
   "nbconvert_exporter": "python",
   "pygments_lexer": "ipython3",
   "version": "3.10.12"
  }
 },
 "nbformat": 4,
 "nbformat_minor": 2
}
